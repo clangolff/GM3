{
 "cells": [
  {
   "cell_type": "code",
   "execution_count": 1,
   "id": "5a3c82a0",
   "metadata": {},
   "outputs": [
    {
     "ename": "ModuleNotFoundError",
     "evalue": "No module named 'tabulate'",
     "output_type": "error",
     "traceback": [
      "\u001b[0;31m---------------------------------------------------------------------------\u001b[0m",
      "\u001b[0;31mModuleNotFoundError\u001b[0m                       Traceback (most recent call last)",
      "\u001b[0;32m/tmp/ipykernel_6584/648328983.py\u001b[0m in \u001b[0;36m<module>\u001b[0;34m\u001b[0m\n\u001b[1;32m      1\u001b[0m \u001b[0;32mimport\u001b[0m \u001b[0mnumpy\u001b[0m \u001b[0;32mas\u001b[0m \u001b[0mnp\u001b[0m\u001b[0;34m\u001b[0m\u001b[0;34m\u001b[0m\u001b[0m\n\u001b[1;32m      2\u001b[0m \u001b[0;32mimport\u001b[0m \u001b[0mmatplotlib\u001b[0m\u001b[0;34m.\u001b[0m\u001b[0mpyplot\u001b[0m \u001b[0;32mas\u001b[0m \u001b[0mplt\u001b[0m\u001b[0;34m\u001b[0m\u001b[0;34m\u001b[0m\u001b[0m\n\u001b[0;32m----> 3\u001b[0;31m \u001b[0;32mfrom\u001b[0m \u001b[0mtabulate\u001b[0m \u001b[0;32mimport\u001b[0m \u001b[0mtabulate\u001b[0m\u001b[0;34m\u001b[0m\u001b[0;34m\u001b[0m\u001b[0m\n\u001b[0m",
      "\u001b[0;31mModuleNotFoundError\u001b[0m: No module named 'tabulate'"
     ]
    }
   ],
   "source": [
    "import numpy as np\n",
    "import matplotlib.pyplot as plt\n",
    "from tabulate import tabulate"
   ]
  },
  {
   "cell_type": "markdown",
   "id": "514be01a",
   "metadata": {},
   "source": [
    "### Méthode de Runge-Kutta 2"
   ]
  },
  {
   "cell_type": "code",
   "execution_count": null,
   "id": "5226ec84",
   "metadata": {},
   "outputs": [],
   "source": [
    "def RK2(f, Y0, t): \n",
    "    d = len(Y0)\n",
    "    n = len(t)\n",
    "    Y = np.zeros((d,n))\n",
    "    Y[:,0] = Y0\n",
    "    dt = (t[1] - t[0])\n",
    "    \n",
    "    for i in range(n-1) :\n",
    "        K1 = f(Y[:,i], t[i])\n",
    "        K2 = f(Y[:,i] + dt * K1, t[i] + dt)\n",
    "        Y[:,i+1] = Y[:,i] + dt * 0.5 * (K1 + K2)\n",
    "    \n",
    "    return Y\n",
    "    "
   ]
  },
  {
   "cell_type": "markdown",
   "id": "86c82e10",
   "metadata": {},
   "source": [
    "### Méthode de Runge-Kutta 4"
   ]
  },
  {
   "cell_type": "code",
   "execution_count": 7,
   "id": "e4178b35",
   "metadata": {},
   "outputs": [],
   "source": [
    "def RK4(f, Y0, t) : \n",
    "   \n",
    "    d = len(y0)\n",
    "    n = len(t)\n",
    "    Y = np.zeros((d,n))\n",
    "    Y[:,0] = Y0\n",
    "    dt = (t[1] - t[0]) \n",
    "    \n",
    "    for i in range(n-1) :\n",
    "        K1 = f(Y[:,i], t[i])\n",
    "        K2 = f(Y[:,i] + dt * 0.5 * K1, t[i] + dt/2)\n",
    "        K3 = f(Y[:,i] + dt * 0.5 * K2, t[i] + dt/2)\n",
    "        K4 = f(Y[:,i] + dt * K3, t[i] + dt)\n",
    "        \n",
    "        Y[:,i+1] = Y[:,i] + dt/6 * (K1 + 2 * K2 + 2 * K3 + K4)\n",
    "        \n",
    "    return Y"
   ]
  },
  {
   "cell_type": "markdown",
   "id": "53097c06",
   "metadata": {},
   "source": [
    "### Euler explicite"
   ]
  },
  {
   "cell_type": "code",
   "execution_count": 8,
   "id": "ad86b2b0",
   "metadata": {},
   "outputs": [],
   "source": [
    "def euler_explicite(f, y0, t):\n",
    "        d = len(y0)\n",
    "        n = len(t)\n",
    "        y = np.zeros((d,n))\n",
    "        y[:,0] = y0\n",
    "        \n",
    "        dt = t[1] - t[0]\n",
    "        \n",
    "        for i in range(n-1):\n",
    "            y[:,i+1] = y[:,i] + dt * f(y[:,i],t[i])\n",
    "            \n",
    "        return y"
   ]
  },
  {
   "cell_type": "markdown",
   "id": "d794b9dd",
   "metadata": {},
   "source": [
    "### Euler implicite"
   ]
  },
  {
   "cell_type": "markdown",
   "id": "cf3d6d42",
   "metadata": {},
   "source": [
    "La méthode d'Euler nécessite de résoudre un système pour trouver les coordonées du point suivant.\n",
    "On dispose de l'application définit par la matrice M : \n",
    "$$\\begin{align*}\n",
    "f(t,x) & =Mx(t)\\\\\n",
    " & =\\left[\\begin{matrix}0 & -1\\\\\n",
    "1 & 0\n",
    "\\end{matrix}\\right]\\left[\\begin{matrix}x_{1}(t)\\\\\n",
    "y_{1}(t)\n",
    "\\end{matrix}\\right]\n",
    "\\end{align*}\n",
    "$$\n",
    "On résout alors :\n",
    "$$\n",
    "\\begin{align*}\n",
    "y_{i+1} & =y_{i}+hMy_{i+1}\\\\\n",
    "\\iff y_{i+1} &=y_{i}(I_{2}-hM)^{-1}\n",
    "\\end{align*}\n",
    "$$"
   ]
  },
  {
   "cell_type": "code",
   "execution_count": 9,
   "id": "50eb99cc",
   "metadata": {},
   "outputs": [],
   "source": [
    "def euler_implicite(M, y0, t):\n",
    "        d = len(y0)\n",
    "        n = len(t)\n",
    "        y = np.zeros((d,n))\n",
    "        y[:,0] = y0\n",
    "        dt = t[1] - t[0]\n",
    "        A = np.linalg.inv(np.eye(2) - dt * M)\n",
    "        \n",
    "        for i in range(n-1):\n",
    "            y[:,i+1] = np.matmul(A, y[:,i])\n",
    "            \n",
    "        return y"
   ]
  },
  {
   "cell_type": "code",
   "execution_count": 10,
   "id": "8bc1bf45",
   "metadata": {},
   "outputs": [],
   "source": [
    "def dynamique1(Y,t) :\n",
    "    X1, X2 = Y\n",
    "    \n",
    "    return np.array([-X2, X1])"
   ]
  },
  {
   "cell_type": "markdown",
   "id": "cd927e26",
   "metadata": {},
   "source": [
    "$M=\\left[\\begin{matrix}0 & -1\\\\\n",
    "1 & 0\n",
    "\\end{matrix}\\right]$  \n",
    "$det(M-\\lambda I_{d})=\\lambda^{2}+1$ donc on dispose de 2 valeurs\n",
    "propres imaginaires pures $\\lambda_{1/2}=\\pm i$  \n",
    "$\\left[\\begin{matrix}x\\\\\n",
    "y\n",
    "\\end{matrix}\\right]\\in ker(M-\\lambda_{1}I_{d})\\iff\\begin{cases}\n",
    "ix-y & =0\\\\\n",
    "x+iy & =0\n",
    "\\end{cases}$ ces équations sont identiques. Donc $vect(E_{\\lambda_{1}})=\\mathbb{R}\\left[\\begin{matrix}1\\\\\n",
    "i\n",
    "\\end{matrix}\\right]$. De même $vect(E_{\\lambda_{2}})=\\mathbb{R}\\left[\\begin{matrix}1\\\\\n",
    "-i\n",
    "\\end{matrix}\\right]$\n",
    "\n",
    "\n",
    "On pose alors $P=\\left[\\begin{matrix}1 & 1\\\\\n",
    "i & -i\n",
    "\\end{matrix}\\right]$ et $D=\\left[\\begin{matrix}-i & 0\\\\\n",
    "0 & i\n",
    "\\end{matrix}\\right]$\n",
    "\n",
    "\n",
    "La solution exacte est donnée par\n",
    "$\n",
    "X(t)=Pe^{Dt}P^{-1}X(0)\n",
    "$\n",
    "\n",
    "$$\n",
    "\\begin{align*}\n",
    "X(t) & =\\left[\\begin{matrix}1 & 1\\\\\n",
    "i & -i\n",
    "\\end{matrix}\\right]\\left[\\begin{matrix}e^{-it} & 0\\\\\n",
    "0 & e^{it}\n",
    "\\end{matrix}\\right]\\frac{-1}{2i}\\left[\\begin{matrix}-i & -1\\\\\n",
    "-i & 1\n",
    "\\end{matrix}\\right]\\left[\\begin{matrix}x_{o}\\\\\n",
    "y_{0}\n",
    "\\end{matrix}\\right]\\\\\n",
    " & =\\left[\\begin{matrix}e^{-it} & e^{it}\\\\\n",
    "ie^{-it} & -ie^{it}\n",
    "\\end{matrix}\\right]\\frac{-1}{2i}\\left[\\begin{matrix}-ix_{0}-y_{0}\\\\\n",
    "-ix_{0}+y_{0}\n",
    "\\end{matrix}\\right]\\\\\n",
    " & =\\frac{-1}{2i}\\left[\\begin{matrix}(-ix_{0}-y_{0})e^{-it}+e^{it}(-ix_{0}+y_{0})\\\\\n",
    "ie^{-it}(-ix_{0}-y_{0})-ie^{it}(-ix_{0}+y_{0})\n",
    "\\end{matrix}\\right]\\\\\n",
    " & =\\frac{-1}{2i}\\left[\\begin{matrix}-ix_{0}(e^{-it}+e^{it})+y_{0}(e^{it}-e^{-it})\\\\\n",
    "-x_{0}(e^{it}-e^{-it})-iy_{0}(e^{it}+e^{-it})\n",
    "\\end{matrix}\\right]\\\\\n",
    " & =\\left[\\begin{matrix}x_{0}cos(t)-y_{0}sin(t)\\\\\n",
    "x_{0}sin(t)+y_{0}cos(t)\n",
    "\\end{matrix}\\right]\\\\\n",
    " & =\\left[\\begin{matrix}cos(t) & -sin(t)\\\\\n",
    "sin(t) & cos(t)\n",
    "\\end{matrix}\\right]\\left[\\begin{matrix}x_{0}\\\\\n",
    "y_{0}\n",
    "\\end{matrix}\\right]\n",
    "\\end{align*}\n",
    "$$  \n",
    "c'est une matrice de rotation"
   ]
  },
  {
   "cell_type": "code",
   "execution_count": 11,
   "id": "aa0090ed",
   "metadata": {},
   "outputs": [],
   "source": [
    "def X(t) :\n",
    "    return np.array([x0 * np.cos(t) - y0 * np.sin(t),x0 * np.sin(t) + y0 * np.cos(t)]) "
   ]
  },
  {
   "cell_type": "markdown",
   "id": "1746de2a",
   "metadata": {},
   "source": [
    "On genère un premier test pour $N=100$"
   ]
  },
  {
   "cell_type": "code",
   "execution_count": 12,
   "id": "ac6f025f",
   "metadata": {},
   "outputs": [
    {
     "ename": "NameError",
     "evalue": "name 'M' is not defined",
     "output_type": "error",
     "traceback": [
      "\u001b[0;31m---------------------------------------------------------------------------\u001b[0m",
      "\u001b[0;31mNameError\u001b[0m                                 Traceback (most recent call last)",
      "\u001b[0;32m/tmp/ipykernel_13541/687439659.py\u001b[0m in \u001b[0;36m<module>\u001b[0;34m\u001b[0m\n\u001b[1;32m     14\u001b[0m \u001b[0;31m#calcul des solutions\u001b[0m\u001b[0;34m\u001b[0m\u001b[0;34m\u001b[0m\u001b[0m\n\u001b[1;32m     15\u001b[0m \u001b[0mEE\u001b[0m \u001b[0;34m=\u001b[0m \u001b[0meuler_explicite\u001b[0m\u001b[0;34m(\u001b[0m\u001b[0mdynamique1\u001b[0m\u001b[0;34m,\u001b[0m \u001b[0mX0\u001b[0m\u001b[0;34m,\u001b[0m \u001b[0mtemps\u001b[0m\u001b[0;34m)\u001b[0m\u001b[0;34m\u001b[0m\u001b[0;34m\u001b[0m\u001b[0m\n\u001b[0;32m---> 16\u001b[0;31m \u001b[0mEI\u001b[0m \u001b[0;34m=\u001b[0m \u001b[0meuler_implicite\u001b[0m\u001b[0;34m(\u001b[0m\u001b[0mM\u001b[0m\u001b[0;34m,\u001b[0m \u001b[0mX0\u001b[0m\u001b[0;34m,\u001b[0m \u001b[0mtemps\u001b[0m\u001b[0;34m)\u001b[0m\u001b[0;34m\u001b[0m\u001b[0;34m\u001b[0m\u001b[0m\n\u001b[0m\u001b[1;32m     17\u001b[0m \u001b[0mrk2\u001b[0m \u001b[0;34m=\u001b[0m \u001b[0mRK2\u001b[0m\u001b[0;34m(\u001b[0m\u001b[0mdynamique1\u001b[0m\u001b[0;34m,\u001b[0m \u001b[0mX0\u001b[0m\u001b[0;34m,\u001b[0m \u001b[0mtemps\u001b[0m\u001b[0;34m)\u001b[0m\u001b[0;34m\u001b[0m\u001b[0;34m\u001b[0m\u001b[0m\n\u001b[1;32m     18\u001b[0m \u001b[0msolExacte\u001b[0m \u001b[0;34m=\u001b[0m \u001b[0mX\u001b[0m\u001b[0;34m(\u001b[0m\u001b[0mtemps\u001b[0m\u001b[0;34m)\u001b[0m\u001b[0;34m\u001b[0m\u001b[0;34m\u001b[0m\u001b[0m\n",
      "\u001b[0;31mNameError\u001b[0m: name 'M' is not defined"
     ]
    }
   ],
   "source": [
    "N = 100\n",
    "T = 10\n",
    "\n",
    "\n",
    "#conditions initiales\n",
    "x0 = 1.\n",
    "y0 = 0.\n",
    "X0 = np.array([x0,y0])\n",
    "\n",
    "\n",
    "temps = np.linspace(0,T,N+1)\n",
    "\n",
    "\n",
    "#calcul des solutions \n",
    "EE = euler_explicite(dynamique1, X0, temps)\n",
    "EI = euler_implicite(M, X0, temps)\n",
    "rk2 = RK2(dynamique1, X0, temps)\n",
    "solExacte = X(temps)\n",
    "\n",
    "\n",
    "#récuperation des coordonnées x1 et x2\n",
    "X1EE = EE[0,:]\n",
    "X2EE = EE[1,:]\n",
    "\n",
    "X1EI = EI[0,:]\n",
    "X2EI = EI[1,:]\n",
    "\n",
    "X1RK2 = rk2[0,:]\n",
    "X2RK2 = rk2[1,:]\n",
    "\n",
    "X1solExact = solExacte[0,:]\n",
    "X2solExact = solExacte[1,:]"
   ]
  },
  {
   "cell_type": "code",
   "execution_count": 13,
   "id": "d450537c",
   "metadata": {
    "scrolled": false
   },
   "outputs": [
    {
     "ename": "NameError",
     "evalue": "name 'X1EE' is not defined",
     "output_type": "error",
     "traceback": [
      "\u001b[0;31m---------------------------------------------------------------------------\u001b[0m",
      "\u001b[0;31mNameError\u001b[0m                                 Traceback (most recent call last)",
      "\u001b[0;32m/tmp/ipykernel_13541/2192687296.py\u001b[0m in \u001b[0;36m<module>\u001b[0;34m\u001b[0m\n\u001b[1;32m      1\u001b[0m \u001b[0mfig\u001b[0m \u001b[0;34m,\u001b[0m \u001b[0maxs\u001b[0m \u001b[0;34m=\u001b[0m \u001b[0mplt\u001b[0m\u001b[0;34m.\u001b[0m\u001b[0msubplots\u001b[0m\u001b[0;34m(\u001b[0m\u001b[0;36m1\u001b[0m\u001b[0;34m,\u001b[0m\u001b[0;36m2\u001b[0m\u001b[0;34m,\u001b[0m\u001b[0mfigsize\u001b[0m \u001b[0;34m=\u001b[0m \u001b[0;34m(\u001b[0m\u001b[0;36m20\u001b[0m\u001b[0;34m,\u001b[0m\u001b[0;36m8\u001b[0m\u001b[0;34m)\u001b[0m\u001b[0;34m)\u001b[0m\u001b[0;34m\u001b[0m\u001b[0;34m\u001b[0m\u001b[0m\n\u001b[1;32m      2\u001b[0m \u001b[0;34m\u001b[0m\u001b[0m\n\u001b[0;32m----> 3\u001b[0;31m \u001b[0maxs\u001b[0m\u001b[0;34m[\u001b[0m\u001b[0;36m0\u001b[0m\u001b[0;34m]\u001b[0m\u001b[0;34m.\u001b[0m\u001b[0mplot\u001b[0m\u001b[0;34m(\u001b[0m\u001b[0mtemps\u001b[0m\u001b[0;34m,\u001b[0m\u001b[0mX1EE\u001b[0m\u001b[0;34m,\u001b[0m\u001b[0;34m'r-'\u001b[0m\u001b[0;34m,\u001b[0m\u001b[0mlabel\u001b[0m\u001b[0;34m=\u001b[0m\u001b[0;34m'EE'\u001b[0m\u001b[0;34m)\u001b[0m\u001b[0;34m\u001b[0m\u001b[0;34m\u001b[0m\u001b[0m\n\u001b[0m\u001b[1;32m      4\u001b[0m \u001b[0maxs\u001b[0m\u001b[0;34m[\u001b[0m\u001b[0;36m0\u001b[0m\u001b[0;34m]\u001b[0m\u001b[0;34m.\u001b[0m\u001b[0mplot\u001b[0m\u001b[0;34m(\u001b[0m\u001b[0mtemps\u001b[0m\u001b[0;34m,\u001b[0m\u001b[0mX1EI\u001b[0m\u001b[0;34m,\u001b[0m\u001b[0;34m'g-'\u001b[0m\u001b[0;34m,\u001b[0m\u001b[0mlabel\u001b[0m\u001b[0;34m=\u001b[0m\u001b[0;34m'EI'\u001b[0m\u001b[0;34m)\u001b[0m\u001b[0;34m\u001b[0m\u001b[0;34m\u001b[0m\u001b[0m\n\u001b[1;32m      5\u001b[0m \u001b[0maxs\u001b[0m\u001b[0;34m[\u001b[0m\u001b[0;36m0\u001b[0m\u001b[0;34m]\u001b[0m\u001b[0;34m.\u001b[0m\u001b[0mplot\u001b[0m\u001b[0;34m(\u001b[0m\u001b[0mtemps\u001b[0m\u001b[0;34m,\u001b[0m\u001b[0mX1RK2\u001b[0m\u001b[0;34m,\u001b[0m\u001b[0;34m'-'\u001b[0m\u001b[0;34m,\u001b[0m\u001b[0mcolor\u001b[0m\u001b[0;34m=\u001b[0m\u001b[0;34m'darkturquoise'\u001b[0m\u001b[0;34m,\u001b[0m\u001b[0mlabel\u001b[0m\u001b[0;34m=\u001b[0m\u001b[0;34m'RK2'\u001b[0m\u001b[0;34m)\u001b[0m\u001b[0;34m\u001b[0m\u001b[0;34m\u001b[0m\u001b[0m\n",
      "\u001b[0;31mNameError\u001b[0m: name 'X1EE' is not defined"
     ]
    },
    {
     "data": {
      "image/png": "[encoded data removed]",
      "text/plain": [
       "<Figure size 1440x576 with 2 Axes>"
      ]
     },
     "metadata": {
      "needs_background": "light"
     },
     "output_type": "display_data"
    }
   ],
   "source": [
    "fig , axs = plt.subplots(1,2,figsize = (20,8))\n",
    "\n",
    "axs[0].plot(temps,X1EE,'r-',label='EE')\n",
    "axs[0].plot(temps,X1EI,'g-',label='EI')\n",
    "axs[0].plot(temps,X1RK2,'-',color='darkturquoise',label='RK2')\n",
    "axs[0].plot(temps,X1solExact,'k--',label='sol exact')\n",
    "axs[0].legend()\n",
    "\n",
    "\n",
    "axs[1].plot(temps,X2EE,'r-',label='EE')\n",
    "axs[1].plot(temps,X2EI,'g-',label='EI')\n",
    "axs[1].plot(temps,X2RK2,'-',color='darkturquoise',label='RK2')\n",
    "axs[1].plot(temps,X2solExact,'k--',label='sol exact')\n",
    "axs[1].legend()\n",
    "\n",
    "plt.show()"
   ]
  },
  {
   "cell_type": "markdown",
   "id": "c0d2c345",
   "metadata": {},
   "source": [
    "Sans surprise, la solution calculée par la méthode de Runge-Kutta d'ordre 2 est bien la plus efficace puisqu'elle se superpose avec la solution exacte. Pour se le convaincre, calculons les erreurs."
   ]
  },
  {
   "cell_type": "code",
   "execution_count": 14,
   "id": "f833aaff",
   "metadata": {},
   "outputs": [
    {
     "ename": "NameError",
     "evalue": "name 'solExacte' is not defined",
     "output_type": "error",
     "traceback": [
      "\u001b[0;31m---------------------------------------------------------------------------\u001b[0m",
      "\u001b[0;31mNameError\u001b[0m                                 Traceback (most recent call last)",
      "\u001b[0;32m/tmp/ipykernel_13541/1240885317.py\u001b[0m in \u001b[0;36m<module>\u001b[0;34m\u001b[0m\n\u001b[0;32m----> 1\u001b[0;31m \u001b[0merrEE\u001b[0m \u001b[0;34m=\u001b[0m \u001b[0mnp\u001b[0m\u001b[0;34m.\u001b[0m\u001b[0mmax\u001b[0m\u001b[0;34m(\u001b[0m\u001b[0mnp\u001b[0m\u001b[0;34m.\u001b[0m\u001b[0mabs\u001b[0m\u001b[0;34m(\u001b[0m\u001b[0mEE\u001b[0m \u001b[0;34m-\u001b[0m \u001b[0msolExacte\u001b[0m\u001b[0;34m)\u001b[0m\u001b[0;34m)\u001b[0m\u001b[0;34m\u001b[0m\u001b[0;34m\u001b[0m\u001b[0m\n\u001b[0m\u001b[1;32m      2\u001b[0m \u001b[0merrEI\u001b[0m \u001b[0;34m=\u001b[0m \u001b[0mnp\u001b[0m\u001b[0;34m.\u001b[0m\u001b[0mmax\u001b[0m\u001b[0;34m(\u001b[0m\u001b[0mnp\u001b[0m\u001b[0;34m.\u001b[0m\u001b[0mabs\u001b[0m\u001b[0;34m(\u001b[0m\u001b[0mEI\u001b[0m \u001b[0;34m-\u001b[0m \u001b[0msolExacte\u001b[0m\u001b[0;34m)\u001b[0m\u001b[0;34m)\u001b[0m\u001b[0;34m\u001b[0m\u001b[0;34m\u001b[0m\u001b[0m\n\u001b[1;32m      3\u001b[0m \u001b[0merrRK2\u001b[0m \u001b[0;34m=\u001b[0m \u001b[0mnp\u001b[0m\u001b[0;34m.\u001b[0m\u001b[0mmax\u001b[0m\u001b[0;34m(\u001b[0m\u001b[0mnp\u001b[0m\u001b[0;34m.\u001b[0m\u001b[0mabs\u001b[0m\u001b[0;34m(\u001b[0m\u001b[0mrk2\u001b[0m \u001b[0;34m-\u001b[0m \u001b[0msolExacte\u001b[0m\u001b[0;34m)\u001b[0m\u001b[0;34m)\u001b[0m\u001b[0;34m\u001b[0m\u001b[0;34m\u001b[0m\u001b[0m\n\u001b[1;32m      4\u001b[0m \u001b[0;34m\u001b[0m\u001b[0m\n\u001b[1;32m      5\u001b[0m \u001b[0mprint\u001b[0m\u001b[0;34m(\u001b[0m\u001b[0mtabulate\u001b[0m\u001b[0;34m(\u001b[0m\u001b[0;34m[\u001b[0m\u001b[0;34m[\u001b[0m\u001b[0;34m\"erreur EE\"\u001b[0m\u001b[0;34m,\u001b[0m\u001b[0;34m\"erreur EI\"\u001b[0m\u001b[0;34m,\u001b[0m\u001b[0;34m\"erreur RK2\"\u001b[0m\u001b[0;34m]\u001b[0m\u001b[0;34m,\u001b[0m\u001b[0;34m[\u001b[0m\u001b[0merrEE\u001b[0m\u001b[0;34m,\u001b[0m\u001b[0merrEI\u001b[0m\u001b[0;34m,\u001b[0m\u001b[0merrRK2\u001b[0m\u001b[0;34m]\u001b[0m\u001b[0;34m]\u001b[0m\u001b[0;34m,\u001b[0m\u001b[0mtablefmt\u001b[0m\u001b[0;34m=\u001b[0m\u001b[0;34m'fancy_grid'\u001b[0m\u001b[0;34m)\u001b[0m\u001b[0;34m)\u001b[0m\u001b[0;34m\u001b[0m\u001b[0;34m\u001b[0m\u001b[0m\n",
      "\u001b[0;31mNameError\u001b[0m: name 'solExacte' is not defined"
     ]
    }
   ],
   "source": [
    "errEE = np.max(np.abs(EE - solExacte)) \n",
    "errEI = np.max(np.abs(EI - solExacte)) \n",
    "errRK2 = np.max(np.abs(rk2 - solExacte)) \n",
    "\n",
    "print(tabulate([[\"erreur EE\",\"erreur EI\",\"erreur RK2\"],[errEE,errEI,errRK2]],tablefmt='fancy_grid'))"
   ]
  },
  {
   "cell_type": "code",
   "execution_count": 15,
   "id": "085f3cd3",
   "metadata": {},
   "outputs": [
    {
     "ename": "NameError",
     "evalue": "name 'RK2' is not defined",
     "output_type": "error",
     "traceback": [
      "\u001b[0;31m---------------------------------------------------------------------------\u001b[0m",
      "\u001b[0;31mNameError\u001b[0m                                 Traceback (most recent call last)",
      "\u001b[0;32m/tmp/ipykernel_13541/995680922.py\u001b[0m in \u001b[0;36m<module>\u001b[0;34m\u001b[0m\n\u001b[1;32m     22\u001b[0m     \u001b[0mEI\u001b[0m \u001b[0;34m=\u001b[0m \u001b[0meuler_implicite\u001b[0m\u001b[0;34m(\u001b[0m\u001b[0mM\u001b[0m\u001b[0;34m,\u001b[0m \u001b[0mX0\u001b[0m\u001b[0;34m,\u001b[0m \u001b[0mtemps\u001b[0m\u001b[0;34m)\u001b[0m\u001b[0;34m\u001b[0m\u001b[0;34m\u001b[0m\u001b[0m\n\u001b[1;32m     23\u001b[0m \u001b[0;34m\u001b[0m\u001b[0m\n\u001b[0;32m---> 24\u001b[0;31m     \u001b[0mrk2\u001b[0m \u001b[0;34m=\u001b[0m \u001b[0mRK2\u001b[0m\u001b[0;34m(\u001b[0m\u001b[0mdynamique1\u001b[0m\u001b[0;34m,\u001b[0m \u001b[0mX0\u001b[0m\u001b[0;34m,\u001b[0m \u001b[0mtemps\u001b[0m\u001b[0;34m)\u001b[0m\u001b[0;34m\u001b[0m\u001b[0;34m\u001b[0m\u001b[0m\n\u001b[0m\u001b[1;32m     25\u001b[0m \u001b[0;34m\u001b[0m\u001b[0m\n\u001b[1;32m     26\u001b[0m     \u001b[0msolExacte\u001b[0m \u001b[0;34m=\u001b[0m \u001b[0mX\u001b[0m\u001b[0;34m(\u001b[0m\u001b[0mtemps\u001b[0m\u001b[0;34m)\u001b[0m\u001b[0;34m\u001b[0m\u001b[0;34m\u001b[0m\u001b[0m\n",
      "\u001b[0;31mNameError\u001b[0m: name 'RK2' is not defined"
     ]
    }
   ],
   "source": [
    "T = 10\n",
    "\n",
    "x0 = 1.\n",
    "y0 = 0.\n",
    "X0 = np.array([x0,y0])\n",
    "\n",
    "i = 0\n",
    "\n",
    "\n",
    "TabP = np.zeros((6,3))\n",
    "TabP[0,:] = None\n",
    "\n",
    "TabErr = np.zeros((6,3))\n",
    "\n",
    "M = np.array([[0,-1],[1,0]])\n",
    "\n",
    "for N in (20,40,80,160,320,640):\n",
    "    temps = np.linspace(0,T,N+1)\n",
    "    \n",
    "    EE = euler_explicite(dynamique1, X0, temps)\n",
    "\n",
    "    EI = euler_implicite(M, X0, temps)\n",
    "    \n",
    "    rk2 = RK2(dynamique1, X0, temps)\n",
    "    \n",
    "    solExacte = X(temps)\n",
    "    \n",
    "    errEE = np.max(np.abs(EE - solExacte)) \n",
    "    errEI = np.max(np.abs(EI - solExacte)) \n",
    "    errRK2 = np.max(np.abs(rk2 - solExacte)) \n",
    "    \n",
    "    TabErr[i,:] = np.array([errEE,errEI,errRK2])\n",
    "    \n",
    "    if i > 0 :\n",
    "        TabP[i,:] = np.log(TabErr[i-1,:] / TabErr[i,:]) / np.log(2)\n",
    "    \n",
    "    i+=1\n",
    "\n",
    "errEE = TabErr[:,0]\n",
    "errEI = TabErr[:,1]\n",
    "errRK2 = TabErr[:,2]"
   ]
  },
  {
   "cell_type": "code",
   "execution_count": 16,
   "id": "58c8168f",
   "metadata": {
    "scrolled": true
   },
   "outputs": [
    {
     "ename": "NameError",
     "evalue": "name 'errEE' is not defined",
     "output_type": "error",
     "traceback": [
      "\u001b[0;31m---------------------------------------------------------------------------\u001b[0m",
      "\u001b[0;31mNameError\u001b[0m                                 Traceback (most recent call last)",
      "\u001b[0;32m/tmp/ipykernel_13541/2355774467.py\u001b[0m in \u001b[0;36m<module>\u001b[0;34m\u001b[0m\n\u001b[1;32m      5\u001b[0m \u001b[0;34m\u001b[0m\u001b[0m\n\u001b[1;32m      6\u001b[0m \u001b[0;34m\u001b[0m\u001b[0m\n\u001b[0;32m----> 7\u001b[0;31m \u001b[0mTres\u001b[0m \u001b[0;34m=\u001b[0m \u001b[0mnp\u001b[0m\u001b[0;34m.\u001b[0m\u001b[0marray\u001b[0m\u001b[0;34m(\u001b[0m\u001b[0;34m[\u001b[0m\u001b[0mtabN\u001b[0m\u001b[0;34m,\u001b[0m\u001b[0merrEE\u001b[0m\u001b[0;34m,\u001b[0m\u001b[0merrEI\u001b[0m\u001b[0;34m,\u001b[0m\u001b[0merrRK2\u001b[0m\u001b[0;34m,\u001b[0m\u001b[0mTabP\u001b[0m\u001b[0;34m[\u001b[0m\u001b[0;34m:\u001b[0m\u001b[0;34m,\u001b[0m\u001b[0;36m0\u001b[0m\u001b[0;34m]\u001b[0m\u001b[0;34m,\u001b[0m\u001b[0mTabP\u001b[0m\u001b[0;34m[\u001b[0m\u001b[0;34m:\u001b[0m\u001b[0;34m,\u001b[0m\u001b[0;36m1\u001b[0m\u001b[0;34m]\u001b[0m\u001b[0;34m,\u001b[0m\u001b[0mTabP\u001b[0m\u001b[0;34m[\u001b[0m\u001b[0;34m:\u001b[0m\u001b[0;34m,\u001b[0m\u001b[0;36m2\u001b[0m\u001b[0;34m]\u001b[0m\u001b[0;34m]\u001b[0m\u001b[0;34m)\u001b[0m\u001b[0;34m.\u001b[0m\u001b[0mT\u001b[0m\u001b[0;34m\u001b[0m\u001b[0;34m\u001b[0m\u001b[0m\n\u001b[0m\u001b[1;32m      8\u001b[0m \u001b[0;34m\u001b[0m\u001b[0m\n\u001b[1;32m      9\u001b[0m \u001b[0mTres\u001b[0m \u001b[0;34m=\u001b[0m \u001b[0mnp\u001b[0m\u001b[0;34m.\u001b[0m\u001b[0mconcatenate\u001b[0m\u001b[0;34m(\u001b[0m\u001b[0;34m(\u001b[0m\u001b[0;34m[\u001b[0m\u001b[0mtitre\u001b[0m\u001b[0;34m]\u001b[0m\u001b[0;34m,\u001b[0m\u001b[0mTres\u001b[0m\u001b[0;34m)\u001b[0m\u001b[0;34m)\u001b[0m\u001b[0;34m\u001b[0m\u001b[0;34m\u001b[0m\u001b[0m\n",
      "\u001b[0;31mNameError\u001b[0m: name 'errEE' is not defined"
     ]
    }
   ],
   "source": [
    "TabP = np.round(TabP)\n",
    "\n",
    "titre = np.array([\"N\",\"err Euler Exp\",\"err Euler Impl\",\"err RK2\",\"p EE\",\"p EI\",\"p RK2\"])\n",
    "tabN = np.array([20,40,80,160,320,640]) \n",
    "\n",
    "\n",
    "Tres = np.array([tabN,errEE,errEI,errRK2,TabP[:,0],TabP[:,1],TabP[:,2]]).T\n",
    "\n",
    "Tres = np.concatenate(([titre],Tres))\n",
    "print(tabulate(Tres,tablefmt='fancy_grid'))"
   ]
  },
  {
   "cell_type": "code",
   "execution_count": 17,
   "id": "28385706",
   "metadata": {
    "scrolled": false
   },
   "outputs": [
    {
     "ename": "NameError",
     "evalue": "name 'errEE' is not defined",
     "output_type": "error",
     "traceback": [
      "\u001b[0;31m---------------------------------------------------------------------------\u001b[0m",
      "\u001b[0;31mNameError\u001b[0m                                 Traceback (most recent call last)",
      "\u001b[0;32m/tmp/ipykernel_13541/1892068586.py\u001b[0m in \u001b[0;36m<module>\u001b[0;34m\u001b[0m\n\u001b[1;32m      4\u001b[0m \u001b[0;34m\u001b[0m\u001b[0m\n\u001b[1;32m      5\u001b[0m \u001b[0;34m\u001b[0m\u001b[0m\n\u001b[0;32m----> 6\u001b[0;31m \u001b[0maxs\u001b[0m\u001b[0;34m[\u001b[0m\u001b[0;36m0\u001b[0m\u001b[0;34m]\u001b[0m\u001b[0;34m.\u001b[0m\u001b[0mplot\u001b[0m\u001b[0;34m(\u001b[0m\u001b[0mn\u001b[0m\u001b[0;34m,\u001b[0m\u001b[0mnp\u001b[0m\u001b[0;34m.\u001b[0m\u001b[0mlog\u001b[0m\u001b[0;34m(\u001b[0m\u001b[0merrEE\u001b[0m\u001b[0;34m)\u001b[0m\u001b[0;34m,\u001b[0m\u001b[0;34m'r--'\u001b[0m\u001b[0;34m,\u001b[0m\u001b[0mlabel\u001b[0m\u001b[0;34m=\u001b[0m\u001b[0;34m'EE'\u001b[0m\u001b[0;34m)\u001b[0m\u001b[0;34m\u001b[0m\u001b[0;34m\u001b[0m\u001b[0m\n\u001b[0m\u001b[1;32m      7\u001b[0m \u001b[0maxs\u001b[0m\u001b[0;34m[\u001b[0m\u001b[0;36m0\u001b[0m\u001b[0;34m]\u001b[0m\u001b[0;34m.\u001b[0m\u001b[0maxis\u001b[0m\u001b[0;34m(\u001b[0m\u001b[0;34m'equal'\u001b[0m\u001b[0;34m)\u001b[0m\u001b[0;34m\u001b[0m\u001b[0;34m\u001b[0m\u001b[0m\n\u001b[1;32m      8\u001b[0m \u001b[0maxs\u001b[0m\u001b[0;34m[\u001b[0m\u001b[0;36m0\u001b[0m\u001b[0;34m]\u001b[0m\u001b[0;34m.\u001b[0m\u001b[0mset_ylabel\u001b[0m\u001b[0;34m(\u001b[0m\u001b[0;34m'log(E(N))'\u001b[0m\u001b[0;34m)\u001b[0m\u001b[0;34m\u001b[0m\u001b[0;34m\u001b[0m\u001b[0m\n",
      "\u001b[0;31mNameError\u001b[0m: name 'errEE' is not defined"
     ]
    },
    {
     "data": {
      "image/png": "[encoded data removed]",
      "text/plain": [
       "<Figure size 1440x360 with 3 Axes>"
      ]
     },
     "metadata": {
      "needs_background": "light"
     },
     "output_type": "display_data"
    }
   ],
   "source": [
    "n = np.log(np.array([20,40,80,160,320,640]))\n",
    "\n",
    "fig , axs = plt.subplots(1,3,figsize = (20,5))\n",
    "\n",
    "\n",
    "axs[0].plot(n,np.log(errEE),'r--',label='EE')\n",
    "axs[0].axis('equal')\n",
    "axs[0].set_ylabel('log(E(N))')\n",
    "axs[0].set_xlabel('log(N)')\n",
    "axs[0].legend()\n",
    "\n",
    "axs[1].plot(n,np.log(errEI),'g--',label='EI')\n",
    "axs[1].axis('equal')\n",
    "axs[1].set_xlabel('log(N)')\n",
    "axs[1].legend()\n",
    "\n",
    "axs[2].plot(n,np.log(errRK2),'b--',label='RK2')\n",
    "axs[2].axis('equal')\n",
    "axs[2].set_xlabel('log(N)')\n",
    "axs[2].legend()\n",
    "\n",
    "plt.show()"
   ]
  },
  {
   "cell_type": "markdown",
   "id": "8ceabbe2",
   "metadata": {},
   "source": [
    "Les diffèrentes méthodes possèdent chacun leur avantages et inconvénients.  \n",
    "La méthode de Runge Kutta 2 est bien la plus précise des 3 mais le coût des calculs et bien plus important que la méthode d'Euler Explicite. Cependant ce coût et bien moins important que la méthode d'Euler Implicite qui demande une inversion de matrice à chaque itération.   "
   ]
  },
  {
   "cell_type": "markdown",
   "id": "28d4dacb",
   "metadata": {},
   "source": [
    "### Exercice 2"
   ]
  },
  {
   "cell_type": "markdown",
   "id": "63bbc451",
   "metadata": {},
   "source": [
    "1- \n",
    "La dynamique associée à ce système différentiel est une fonction\n",
    "$f:\\mathbb{R}^{2}\\rightarrow\\mathbb{R}^{2}$ définie par :\n",
    "\n",
    "$$\n",
    "f\\left(\\begin{matrix}x\\\\\n",
    "y\n",
    "\\end{matrix}\\right)=\\left(\\begin{matrix}2y\\\\\n",
    "-3x^2-12x\n",
    "\\end{matrix}\\right)\n",
    "$$\n",
    "\n",
    "L'implémentation de la dynamique donne le code présent ci-dessous :"
   ]
  },
  {
   "cell_type": "code",
   "execution_count": 18,
   "id": "29ce0019",
   "metadata": {},
   "outputs": [],
   "source": [
    "def dynamique2(Y,t) :\n",
    "    X1, X2 = Y\n",
    "    x = 2*X2\n",
    "    y = - 3*X1**2 - 12*X1\n",
    "    return np.array([x, y])"
   ]
  },
  {
   "cell_type": "markdown",
   "id": "2f5d91c9",
   "metadata": {},
   "source": [
    "2-\n",
    "Voici ci-dessous le code permettant la simulation du système différentiel par les méthodes (EE), (RK2), et (RK4)."
   ]
  },
  {
   "cell_type": "code",
   "execution_count": 19,
   "id": "872b3672",
   "metadata": {},
   "outputs": [
    {
     "name": "stdout",
     "output_type": "stream",
     "text": [
      "[[-3.00000000e+000 -3.00000000e+000  4.47000000e+002  1.34700000e+003\n",
      "  -3.02373030e+007 -3.33445503e+008 -1.37144156e+017 -1.69521736e+019\n",
      "  -2.82127795e+036 -4.31120712e+040 -1.19394139e+075 -2.78797605e+083\n",
      "  -2.13824405e+152 -1.16592157e+169 -6.85813144e+306             -inf\n",
      "              -inf              nan              nan              nan\n",
      "               nan]\n",
      " [ 0.00000000e+000  4.50000000e+001  9.00000000e+001 -3.02386500e+006\n",
      "  -3.03208200e+007 -1.37144156e+016 -1.68150295e+018 -2.82127795e+035\n",
      "  -4.31092499e+039 -1.19394139e+074 -2.78797604e+082 -2.13824405e+151\n",
      "  -1.16592157e+168 -6.85813144e+305             -inf             -inf\n",
      "               nan              nan              nan              nan\n",
      "               nan]]\n"
     ]
    },
    {
     "name": "stderr",
     "output_type": "stream",
     "text": [
      "/tmp/ipykernel_13541/4181276811.py:4: RuntimeWarning: overflow encountered in double_scalars\n",
      "  y = - 3*X1**2 - 12*X1\n",
      "/tmp/ipykernel_13541/4181276811.py:4: RuntimeWarning: invalid value encountered in double_scalars\n",
      "  y = - 3*X1**2 - 12*X1\n"
     ]
    },
    {
     "ename": "NameError",
     "evalue": "name 'RK2' is not defined",
     "output_type": "error",
     "traceback": [
      "\u001b[0;31m---------------------------------------------------------------------------\u001b[0m",
      "\u001b[0;31mNameError\u001b[0m                                 Traceback (most recent call last)",
      "\u001b[0;32m/tmp/ipykernel_13541/2807538347.py\u001b[0m in \u001b[0;36m<module>\u001b[0;34m\u001b[0m\n\u001b[1;32m     10\u001b[0m \u001b[0mprint\u001b[0m\u001b[0;34m(\u001b[0m\u001b[0mEE_2\u001b[0m\u001b[0;34m)\u001b[0m\u001b[0;34m\u001b[0m\u001b[0;34m\u001b[0m\u001b[0m\n\u001b[1;32m     11\u001b[0m \u001b[0;34m\u001b[0m\u001b[0m\n\u001b[0;32m---> 12\u001b[0;31m \u001b[0mrk2_2\u001b[0m \u001b[0;34m=\u001b[0m \u001b[0mRK2\u001b[0m\u001b[0;34m(\u001b[0m\u001b[0mdynamique2\u001b[0m\u001b[0;34m,\u001b[0m \u001b[0mY0\u001b[0m\u001b[0;34m,\u001b[0m \u001b[0mtemps\u001b[0m\u001b[0;34m)\u001b[0m\u001b[0;34m\u001b[0m\u001b[0;34m\u001b[0m\u001b[0m\n\u001b[0m\u001b[1;32m     13\u001b[0m \u001b[0mprint\u001b[0m\u001b[0;34m(\u001b[0m\u001b[0;34m)\u001b[0m\u001b[0;34m\u001b[0m\u001b[0;34m\u001b[0m\u001b[0m\n\u001b[1;32m     14\u001b[0m \u001b[0mprint\u001b[0m\u001b[0;34m(\u001b[0m\u001b[0mrk2_2\u001b[0m\u001b[0;34m)\u001b[0m\u001b[0;34m\u001b[0m\u001b[0;34m\u001b[0m\u001b[0m\n",
      "\u001b[0;31mNameError\u001b[0m: name 'RK2' is not defined"
     ]
    }
   ],
   "source": [
    "X10 = -3.\n",
    "X20 = 0.\n",
    "Y0 = np.array([X10,X20])\n",
    "T= 100\n",
    "N = 20\n",
    "C0 = X10**3 + 6 * X10**2 + X20**2\n",
    "temps = np.linspace(0,T,N+1)\n",
    "\n",
    "EE_2 = euler_explicite(dynamique2, Y0, temps)\n",
    "print(EE_2)\n",
    "\n",
    "rk2_2 = RK2(dynamique2, Y0, temps)\n",
    "print()\n",
    "print(rk2_2)\n",
    "\n",
    "rk4_2 = RK4(dynamique2, Y0, temps)\n",
    "print()\n",
    "print(rk4_2)"
   ]
  },
  {
   "cell_type": "code",
   "execution_count": 20,
   "id": "fcd0a9fd",
   "metadata": {},
   "outputs": [
    {
     "ename": "ValueError",
     "evalue": "x and y must have same first dimension, but have shapes (21,) and (2, 21)",
     "output_type": "error",
     "traceback": [
      "\u001b[0;31m---------------------------------------------------------------------------\u001b[0m",
      "\u001b[0;31mValueError\u001b[0m                                Traceback (most recent call last)",
      "\u001b[0;32m/tmp/ipykernel_13541/4103675833.py\u001b[0m in \u001b[0;36m<module>\u001b[0;34m\u001b[0m\n\u001b[0;32m----> 1\u001b[0;31m \u001b[0mplt\u001b[0m\u001b[0;34m.\u001b[0m\u001b[0mplot\u001b[0m\u001b[0;34m(\u001b[0m\u001b[0mtemps\u001b[0m\u001b[0;34m,\u001b[0m\u001b[0mEE\u001b[0m\u001b[0;34m)\u001b[0m\u001b[0;34m\u001b[0m\u001b[0;34m\u001b[0m\u001b[0m\n\u001b[0m\u001b[1;32m      2\u001b[0m \u001b[0mplt\u001b[0m\u001b[0;34m.\u001b[0m\u001b[0mxlabel\u001b[0m\u001b[0;34m(\u001b[0m\u001b[0;34m\"temps\"\u001b[0m\u001b[0;34m)\u001b[0m\u001b[0;34m\u001b[0m\u001b[0;34m\u001b[0m\u001b[0m\n\u001b[1;32m      3\u001b[0m \u001b[0mplt\u001b[0m\u001b[0;34m.\u001b[0m\u001b[0mylabel\u001b[0m\u001b[0;34m(\u001b[0m\u001b[0;34m\"EE\"\u001b[0m\u001b[0;34m)\u001b[0m\u001b[0;34m\u001b[0m\u001b[0;34m\u001b[0m\u001b[0m\n\u001b[1;32m      4\u001b[0m \u001b[0;31m#plt.title('Courbe paramétrée : Solution exacte')\u001b[0m\u001b[0;34m\u001b[0m\u001b[0;34m\u001b[0m\u001b[0m\n\u001b[1;32m      5\u001b[0m \u001b[0mplt\u001b[0m\u001b[0;34m.\u001b[0m\u001b[0mplot\u001b[0m\u001b[0;34m(\u001b[0m\u001b[0mtemps\u001b[0m\u001b[0;34m,\u001b[0m\u001b[0mrk2\u001b[0m\u001b[0;34m)\u001b[0m\u001b[0;34m\u001b[0m\u001b[0;34m\u001b[0m\u001b[0m\n",
      "\u001b[0;32m/usr/lib/python3/dist-packages/matplotlib/pyplot.py\u001b[0m in \u001b[0;36mplot\u001b[0;34m(scalex, scaley, data, *args, **kwargs)\u001b[0m\n\u001b[1;32m   2755\u001b[0m \u001b[0;34m@\u001b[0m\u001b[0m_copy_docstring_and_deprecators\u001b[0m\u001b[0;34m(\u001b[0m\u001b[0mAxes\u001b[0m\u001b[0;34m.\u001b[0m\u001b[0mplot\u001b[0m\u001b[0;34m)\u001b[0m\u001b[0;34m\u001b[0m\u001b[0;34m\u001b[0m\u001b[0m\n\u001b[1;32m   2756\u001b[0m \u001b[0;32mdef\u001b[0m \u001b[0mplot\u001b[0m\u001b[0;34m(\u001b[0m\u001b[0;34m*\u001b[0m\u001b[0margs\u001b[0m\u001b[0;34m,\u001b[0m \u001b[0mscalex\u001b[0m\u001b[0;34m=\u001b[0m\u001b[0;32mTrue\u001b[0m\u001b[0;34m,\u001b[0m \u001b[0mscaley\u001b[0m\u001b[0;34m=\u001b[0m\u001b[0;32mTrue\u001b[0m\u001b[0;34m,\u001b[0m \u001b[0mdata\u001b[0m\u001b[0;34m=\u001b[0m\u001b[0;32mNone\u001b[0m\u001b[0;34m,\u001b[0m \u001b[0;34m**\u001b[0m\u001b[0mkwargs\u001b[0m\u001b[0;34m)\u001b[0m\u001b[0;34m:\u001b[0m\u001b[0;34m\u001b[0m\u001b[0;34m\u001b[0m\u001b[0m\n\u001b[0;32m-> 2757\u001b[0;31m     return gca().plot(\n\u001b[0m\u001b[1;32m   2758\u001b[0m         \u001b[0;34m*\u001b[0m\u001b[0margs\u001b[0m\u001b[0;34m,\u001b[0m \u001b[0mscalex\u001b[0m\u001b[0;34m=\u001b[0m\u001b[0mscalex\u001b[0m\u001b[0;34m,\u001b[0m \u001b[0mscaley\u001b[0m\u001b[0;34m=\u001b[0m\u001b[0mscaley\u001b[0m\u001b[0;34m,\u001b[0m\u001b[0;34m\u001b[0m\u001b[0;34m\u001b[0m\u001b[0m\n\u001b[1;32m   2759\u001b[0m         **({\"data\": data} if data is not None else {}), **kwargs)\n",
      "\u001b[0;32m/usr/lib/python3/dist-packages/matplotlib/axes/_axes.py\u001b[0m in \u001b[0;36mplot\u001b[0;34m(self, scalex, scaley, data, *args, **kwargs)\u001b[0m\n\u001b[1;32m   1630\u001b[0m         \"\"\"\n\u001b[1;32m   1631\u001b[0m         \u001b[0mkwargs\u001b[0m \u001b[0;34m=\u001b[0m \u001b[0mcbook\u001b[0m\u001b[0;34m.\u001b[0m\u001b[0mnormalize_kwargs\u001b[0m\u001b[0;34m(\u001b[0m\u001b[0mkwargs\u001b[0m\u001b[0;34m,\u001b[0m \u001b[0mmlines\u001b[0m\u001b[0;34m.\u001b[0m\u001b[0mLine2D\u001b[0m\u001b[0;34m)\u001b[0m\u001b[0;34m\u001b[0m\u001b[0;34m\u001b[0m\u001b[0m\n\u001b[0;32m-> 1632\u001b[0;31m         \u001b[0mlines\u001b[0m \u001b[0;34m=\u001b[0m \u001b[0;34m[\u001b[0m\u001b[0;34m*\u001b[0m\u001b[0mself\u001b[0m\u001b[0;34m.\u001b[0m\u001b[0m_get_lines\u001b[0m\u001b[0;34m(\u001b[0m\u001b[0;34m*\u001b[0m\u001b[0margs\u001b[0m\u001b[0;34m,\u001b[0m \u001b[0mdata\u001b[0m\u001b[0;34m=\u001b[0m\u001b[0mdata\u001b[0m\u001b[0;34m,\u001b[0m \u001b[0;34m**\u001b[0m\u001b[0mkwargs\u001b[0m\u001b[0;34m)\u001b[0m\u001b[0;34m]\u001b[0m\u001b[0;34m\u001b[0m\u001b[0;34m\u001b[0m\u001b[0m\n\u001b[0m\u001b[1;32m   1633\u001b[0m         \u001b[0;32mfor\u001b[0m \u001b[0mline\u001b[0m \u001b[0;32min\u001b[0m \u001b[0mlines\u001b[0m\u001b[0;34m:\u001b[0m\u001b[0;34m\u001b[0m\u001b[0;34m\u001b[0m\u001b[0m\n\u001b[1;32m   1634\u001b[0m             \u001b[0mself\u001b[0m\u001b[0;34m.\u001b[0m\u001b[0madd_line\u001b[0m\u001b[0;34m(\u001b[0m\u001b[0mline\u001b[0m\u001b[0;34m)\u001b[0m\u001b[0;34m\u001b[0m\u001b[0;34m\u001b[0m\u001b[0m\n",
      "\u001b[0;32m/usr/lib/python3/dist-packages/matplotlib/axes/_base.py\u001b[0m in \u001b[0;36m__call__\u001b[0;34m(self, data, *args, **kwargs)\u001b[0m\n\u001b[1;32m    310\u001b[0m                 \u001b[0mthis\u001b[0m \u001b[0;34m+=\u001b[0m \u001b[0margs\u001b[0m\u001b[0;34m[\u001b[0m\u001b[0;36m0\u001b[0m\u001b[0;34m]\u001b[0m\u001b[0;34m,\u001b[0m\u001b[0;34m\u001b[0m\u001b[0;34m\u001b[0m\u001b[0m\n\u001b[1;32m    311\u001b[0m                 \u001b[0margs\u001b[0m \u001b[0;34m=\u001b[0m \u001b[0margs\u001b[0m\u001b[0;34m[\u001b[0m\u001b[0;36m1\u001b[0m\u001b[0;34m:\u001b[0m\u001b[0;34m]\u001b[0m\u001b[0;34m\u001b[0m\u001b[0;34m\u001b[0m\u001b[0m\n\u001b[0;32m--> 312\u001b[0;31m             \u001b[0;32myield\u001b[0m \u001b[0;32mfrom\u001b[0m \u001b[0mself\u001b[0m\u001b[0;34m.\u001b[0m\u001b[0m_plot_args\u001b[0m\u001b[0;34m(\u001b[0m\u001b[0mthis\u001b[0m\u001b[0;34m,\u001b[0m \u001b[0mkwargs\u001b[0m\u001b[0;34m)\u001b[0m\u001b[0;34m\u001b[0m\u001b[0;34m\u001b[0m\u001b[0m\n\u001b[0m\u001b[1;32m    313\u001b[0m \u001b[0;34m\u001b[0m\u001b[0m\n\u001b[1;32m    314\u001b[0m     \u001b[0;32mdef\u001b[0m \u001b[0mget_next_color\u001b[0m\u001b[0;34m(\u001b[0m\u001b[0mself\u001b[0m\u001b[0;34m)\u001b[0m\u001b[0;34m:\u001b[0m\u001b[0;34m\u001b[0m\u001b[0;34m\u001b[0m\u001b[0m\n",
      "\u001b[0;32m/usr/lib/python3/dist-packages/matplotlib/axes/_base.py\u001b[0m in \u001b[0;36m_plot_args\u001b[0;34m(self, tup, kwargs, return_kwargs)\u001b[0m\n\u001b[1;32m    496\u001b[0m \u001b[0;34m\u001b[0m\u001b[0m\n\u001b[1;32m    497\u001b[0m         \u001b[0;32mif\u001b[0m \u001b[0mx\u001b[0m\u001b[0;34m.\u001b[0m\u001b[0mshape\u001b[0m\u001b[0;34m[\u001b[0m\u001b[0;36m0\u001b[0m\u001b[0;34m]\u001b[0m \u001b[0;34m!=\u001b[0m \u001b[0my\u001b[0m\u001b[0;34m.\u001b[0m\u001b[0mshape\u001b[0m\u001b[0;34m[\u001b[0m\u001b[0;36m0\u001b[0m\u001b[0;34m]\u001b[0m\u001b[0;34m:\u001b[0m\u001b[0;34m\u001b[0m\u001b[0;34m\u001b[0m\u001b[0m\n\u001b[0;32m--> 498\u001b[0;31m             raise ValueError(f\"x and y must have same first dimension, but \"\n\u001b[0m\u001b[1;32m    499\u001b[0m                              f\"have shapes {x.shape} and {y.shape}\")\n\u001b[1;32m    500\u001b[0m         \u001b[0;32mif\u001b[0m \u001b[0mx\u001b[0m\u001b[0;34m.\u001b[0m\u001b[0mndim\u001b[0m \u001b[0;34m>\u001b[0m \u001b[0;36m2\u001b[0m \u001b[0;32mor\u001b[0m \u001b[0my\u001b[0m\u001b[0;34m.\u001b[0m\u001b[0mndim\u001b[0m \u001b[0;34m>\u001b[0m \u001b[0;36m2\u001b[0m\u001b[0;34m:\u001b[0m\u001b[0;34m\u001b[0m\u001b[0;34m\u001b[0m\u001b[0m\n",
      "\u001b[0;31mValueError\u001b[0m: x and y must have same first dimension, but have shapes (21,) and (2, 21)"
     ]
    },
    {
     "data": {
      "image/png": "[encoded data removed]",
      "text/plain": [
       "<Figure size 432x288 with 1 Axes>"
      ]
     },
     "metadata": {
      "needs_background": "light"
     },
     "output_type": "display_data"
    }
   ],
   "source": [
    "plt.plot(temps,EE)\n",
    "plt.xlabel(\"temps\")\n",
    "plt.ylabel(\"EE\")\n",
    "#plt.title('Courbe paramétrée : Solution exacte')\n",
    "plt.plot(temps,rk2)\n",
    "plt.xlabel(\"temps\")\n",
    "plt.ylabel(\"rk2\")\n",
    "\n",
    "plt.plot(temps,rk4)\n",
    "plt.xlabel(\"temps\")\n",
    "plt.ylabel(\"rk4\")\n",
    "\n",
    "plt.show()"
   ]
  },
  {
   "cell_type": "markdown",
   "id": "bbc80126",
   "metadata": {},
   "source": [
    "3- Tracé de la solution exacte"
   ]
  },
  {
   "cell_type": "code",
   "execution_count": null,
   "id": "dbc626e8",
   "metadata": {},
   "outputs": [],
   "source": []
  }
 ],
 "metadata": {
  "kernelspec": {
   "display_name": "Python 3 (ipykernel)",
   "language": "python",
   "name": "python3"
  },
  "language_info": {
   "codemirror_mode": {
    "name": "ipython",
    "version": 3
   },
   "file_extension": ".py",
   "mimetype": "text/x-python",
   "name": "python",
   "nbconvert_exporter": "python",
   "pygments_lexer": "ipython3",
   "version": "3.10.6"
  }
 },
 "nbformat": 4,
 "nbformat_minor": 5
}
